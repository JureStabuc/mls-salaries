{
 "cells": [
  {
   "cell_type": "code",
   "execution_count": 1,
   "metadata": {
    "collapsed": true
   },
   "outputs": [],
   "source": [
    "import pandas as pd\n",
    "from pandas import DataFrame"
   ]
  },
  {
   "cell_type": "code",
   "execution_count": 2,
   "metadata": {},
   "outputs": [
    {
     "name": "stdout",
     "output_type": "stream",
     "text": [
      "   year  guaranteed_compensation\n",
      "0  2007            113810.377358\n",
      "   year  guaranteed_compensation\n",
      "0  2008            115066.880779\n",
      "   year  guaranteed_compensation\n",
      "0  2009            133706.257732\n",
      "   year  guaranteed_compensation\n",
      "0  2010            173491.360097\n",
      "   year  guaranteed_compensation\n",
      "0  2011            162056.085714\n",
      "   year  guaranteed_compensation\n",
      "0  2012            179165.768953\n",
      "   year  guaranteed_compensation\n",
      "0  2013            165066.130208\n",
      "   year  guaranteed_compensation\n",
      "0  2014            226454.174825\n",
      "   year  guaranteed_compensation\n",
      "0  2015            291933.273519\n",
      "   year  guaranteed_compensation\n",
      "0  2016            316777.245045\n",
      "   year  guaranteed_compensation\n",
      "0  2017            326139.131494\n",
      "{2016: 0    175811371\n",
      "Name: guaranteed_compensation, dtype: int64, 2017: 0    200901705\n",
      "Name: guaranteed_compensation, dtype: int64, 2007: 0    42223650\n",
      "Name: guaranteed_compensation, dtype: int64, 2008: 0    47292488\n",
      "Name: guaranteed_compensation, dtype: int64, 2009: 0    51878028\n",
      "Name: guaranteed_compensation, dtype: int64, 2010: 0    71304949\n",
      "Name: guaranteed_compensation, dtype: int64, 2011: 0    85079445\n",
      "Name: guaranteed_compensation, dtype: int64, 2012: 0    99257836\n",
      "Name: guaranteed_compensation, dtype: int64, 2013: 0    95078091\n",
      "Name: guaranteed_compensation, dtype: int64, 2014: 0    129531788\n",
      "Name: guaranteed_compensation, dtype: int64, 2015: 0    167569699\n",
      "Name: guaranteed_compensation, dtype: int64}\n"
     ]
    }
   ],
   "source": [
    "d = {}\n",
    "e={}\n",
    "f = {}\n",
    "for year in range(2007, 2018):\n",
    "#     print(year)\n",
    "    data = pd.read_csv(\"mls-salaries-{0}.csv\".format(year))\n",
    "    df = DataFrame(data, columns=[\"guaranteed_compensation\"])\n",
    "    df[\"guaranteed_compensation\"] = df[\"guaranteed_compensation\"].fillna(0).astype(int)\n",
    "    df = df.assign(year=year)\n",
    "    df = df.reindex_axis([\"year\",\"guaranteed_compensation\"], axis=1)\n",
    "    group = df.groupby(\"year\", as_index=False).mean()\n",
    "    median = df.groupby(\"year\", as_index=False).median()\n",
    "    total = df.groupby(\"year\", as_index=False).sum()\n",
    "    print(group)\n",
    "    d[year] = group.guaranteed_compensation\n",
    "    e[year] = median.guaranteed_compensation\n",
    "    f[year] = total.guaranteed_compensation\n",
    "    \n",
    "    \n",
    "print(f)\n"
   ]
  },
  {
   "cell_type": "code",
   "execution_count": 3,
   "metadata": {
    "collapsed": true
   },
   "outputs": [],
   "source": [
    "table = DataFrame.from_dict(d, orient=\"index\").reset_index()"
   ]
  },
  {
   "cell_type": "code",
   "execution_count": 4,
   "metadata": {
    "collapsed": true
   },
   "outputs": [],
   "source": [
    "table_median = DataFrame.from_dict(e, orient=\"index\").reset_index()"
   ]
  },
  {
   "cell_type": "code",
   "execution_count": 5,
   "metadata": {
    "collapsed": true
   },
   "outputs": [],
   "source": [
    "table_total = DataFrame.from_dict(f, orient=\"index\").reset_index()"
   ]
  },
  {
   "cell_type": "code",
   "execution_count": 6,
   "metadata": {},
   "outputs": [
    {
     "data": {
      "text/html": [
       "<div>\n",
       "<style>\n",
       "    .dataframe thead tr:only-child th {\n",
       "        text-align: right;\n",
       "    }\n",
       "\n",
       "    .dataframe thead th {\n",
       "        text-align: left;\n",
       "    }\n",
       "\n",
       "    .dataframe tbody tr th {\n",
       "        vertical-align: top;\n",
       "    }\n",
       "</style>\n",
       "<table border=\"1\" class=\"dataframe\">\n",
       "  <thead>\n",
       "    <tr style=\"text-align: right;\">\n",
       "      <th></th>\n",
       "      <th>index</th>\n",
       "      <th>0</th>\n",
       "    </tr>\n",
       "  </thead>\n",
       "  <tbody>\n",
       "    <tr>\n",
       "      <th>0</th>\n",
       "      <td>2007</td>\n",
       "      <td>42223650</td>\n",
       "    </tr>\n",
       "    <tr>\n",
       "      <th>1</th>\n",
       "      <td>2008</td>\n",
       "      <td>47292488</td>\n",
       "    </tr>\n",
       "    <tr>\n",
       "      <th>2</th>\n",
       "      <td>2009</td>\n",
       "      <td>51878028</td>\n",
       "    </tr>\n",
       "    <tr>\n",
       "      <th>3</th>\n",
       "      <td>2010</td>\n",
       "      <td>71304949</td>\n",
       "    </tr>\n",
       "    <tr>\n",
       "      <th>4</th>\n",
       "      <td>2011</td>\n",
       "      <td>85079445</td>\n",
       "    </tr>\n",
       "    <tr>\n",
       "      <th>5</th>\n",
       "      <td>2012</td>\n",
       "      <td>99257836</td>\n",
       "    </tr>\n",
       "    <tr>\n",
       "      <th>6</th>\n",
       "      <td>2013</td>\n",
       "      <td>95078091</td>\n",
       "    </tr>\n",
       "    <tr>\n",
       "      <th>7</th>\n",
       "      <td>2014</td>\n",
       "      <td>129531788</td>\n",
       "    </tr>\n",
       "    <tr>\n",
       "      <th>8</th>\n",
       "      <td>2015</td>\n",
       "      <td>167569699</td>\n",
       "    </tr>\n",
       "    <tr>\n",
       "      <th>9</th>\n",
       "      <td>2016</td>\n",
       "      <td>175811371</td>\n",
       "    </tr>\n",
       "    <tr>\n",
       "      <th>10</th>\n",
       "      <td>2017</td>\n",
       "      <td>200901705</td>\n",
       "    </tr>\n",
       "  </tbody>\n",
       "</table>\n",
       "</div>"
      ],
      "text/plain": [
       "    index          0\n",
       "0    2007   42223650\n",
       "1    2008   47292488\n",
       "2    2009   51878028\n",
       "3    2010   71304949\n",
       "4    2011   85079445\n",
       "5    2012   99257836\n",
       "6    2013   95078091\n",
       "7    2014  129531788\n",
       "8    2015  167569699\n",
       "9    2016  175811371\n",
       "10   2017  200901705"
      ]
     },
     "execution_count": 6,
     "metadata": {},
     "output_type": "execute_result"
    }
   ],
   "source": [
    "table_total"
   ]
  },
  {
   "cell_type": "code",
   "execution_count": 7,
   "metadata": {
    "collapsed": true
   },
   "outputs": [],
   "source": [
    "table = table.rename(columns={'index': 'year', 0:\"average\"}).round(0).astype(int)\n",
    "table_median = table_median.rename(columns = {\"index\":\"year\", 0:\"median\"})\n",
    "table_total = table_total.rename(columns = {\"index\":\"year\", 0:\"total\"})"
   ]
  },
  {
   "cell_type": "code",
   "execution_count": 8,
   "metadata": {},
   "outputs": [
    {
     "data": {
      "text/html": [
       "<div>\n",
       "<style>\n",
       "    .dataframe thead tr:only-child th {\n",
       "        text-align: right;\n",
       "    }\n",
       "\n",
       "    .dataframe thead th {\n",
       "        text-align: left;\n",
       "    }\n",
       "\n",
       "    .dataframe tbody tr th {\n",
       "        vertical-align: top;\n",
       "    }\n",
       "</style>\n",
       "<table border=\"1\" class=\"dataframe\">\n",
       "  <thead>\n",
       "    <tr style=\"text-align: right;\">\n",
       "      <th></th>\n",
       "      <th>year</th>\n",
       "      <th>total</th>\n",
       "    </tr>\n",
       "  </thead>\n",
       "  <tbody>\n",
       "    <tr>\n",
       "      <th>0</th>\n",
       "      <td>2007</td>\n",
       "      <td>42223650</td>\n",
       "    </tr>\n",
       "    <tr>\n",
       "      <th>1</th>\n",
       "      <td>2008</td>\n",
       "      <td>47292488</td>\n",
       "    </tr>\n",
       "    <tr>\n",
       "      <th>2</th>\n",
       "      <td>2009</td>\n",
       "      <td>51878028</td>\n",
       "    </tr>\n",
       "    <tr>\n",
       "      <th>3</th>\n",
       "      <td>2010</td>\n",
       "      <td>71304949</td>\n",
       "    </tr>\n",
       "    <tr>\n",
       "      <th>4</th>\n",
       "      <td>2011</td>\n",
       "      <td>85079445</td>\n",
       "    </tr>\n",
       "    <tr>\n",
       "      <th>5</th>\n",
       "      <td>2012</td>\n",
       "      <td>99257836</td>\n",
       "    </tr>\n",
       "    <tr>\n",
       "      <th>6</th>\n",
       "      <td>2013</td>\n",
       "      <td>95078091</td>\n",
       "    </tr>\n",
       "    <tr>\n",
       "      <th>7</th>\n",
       "      <td>2014</td>\n",
       "      <td>129531788</td>\n",
       "    </tr>\n",
       "    <tr>\n",
       "      <th>8</th>\n",
       "      <td>2015</td>\n",
       "      <td>167569699</td>\n",
       "    </tr>\n",
       "    <tr>\n",
       "      <th>9</th>\n",
       "      <td>2016</td>\n",
       "      <td>175811371</td>\n",
       "    </tr>\n",
       "    <tr>\n",
       "      <th>10</th>\n",
       "      <td>2017</td>\n",
       "      <td>200901705</td>\n",
       "    </tr>\n",
       "  </tbody>\n",
       "</table>\n",
       "</div>"
      ],
      "text/plain": [
       "    year      total\n",
       "0   2007   42223650\n",
       "1   2008   47292488\n",
       "2   2009   51878028\n",
       "3   2010   71304949\n",
       "4   2011   85079445\n",
       "5   2012   99257836\n",
       "6   2013   95078091\n",
       "7   2014  129531788\n",
       "8   2015  167569699\n",
       "9   2016  175811371\n",
       "10  2017  200901705"
      ]
     },
     "execution_count": 8,
     "metadata": {},
     "output_type": "execute_result"
    }
   ],
   "source": [
    "table_total"
   ]
  },
  {
   "cell_type": "code",
   "execution_count": 9,
   "metadata": {
    "collapsed": true
   },
   "outputs": [],
   "source": [
    "join = pd.merge(pd.merge(table, table_median, on='year'), table_total, on='year')"
   ]
  },
  {
   "cell_type": "code",
   "execution_count": 10,
   "metadata": {},
   "outputs": [
    {
     "data": {
      "text/html": [
       "<div>\n",
       "<style>\n",
       "    .dataframe thead tr:only-child th {\n",
       "        text-align: right;\n",
       "    }\n",
       "\n",
       "    .dataframe thead th {\n",
       "        text-align: left;\n",
       "    }\n",
       "\n",
       "    .dataframe tbody tr th {\n",
       "        vertical-align: top;\n",
       "    }\n",
       "</style>\n",
       "<table border=\"1\" class=\"dataframe\">\n",
       "  <thead>\n",
       "    <tr style=\"text-align: right;\">\n",
       "      <th></th>\n",
       "      <th>year</th>\n",
       "      <th>average</th>\n",
       "      <th>median</th>\n",
       "      <th>total</th>\n",
       "    </tr>\n",
       "  </thead>\n",
       "  <tbody>\n",
       "    <tr>\n",
       "      <th>0</th>\n",
       "      <td>2007</td>\n",
       "      <td>113810</td>\n",
       "      <td>50400.0</td>\n",
       "      <td>42223650</td>\n",
       "    </tr>\n",
       "    <tr>\n",
       "      <th>1</th>\n",
       "      <td>2008</td>\n",
       "      <td>115067</td>\n",
       "      <td>56988.0</td>\n",
       "      <td>47292488</td>\n",
       "    </tr>\n",
       "    <tr>\n",
       "      <th>2</th>\n",
       "      <td>2009</td>\n",
       "      <td>133706</td>\n",
       "      <td>76043.5</td>\n",
       "      <td>51878028</td>\n",
       "    </tr>\n",
       "    <tr>\n",
       "      <th>3</th>\n",
       "      <td>2010</td>\n",
       "      <td>173491</td>\n",
       "      <td>92375.0</td>\n",
       "      <td>71304949</td>\n",
       "    </tr>\n",
       "    <tr>\n",
       "      <th>4</th>\n",
       "      <td>2011</td>\n",
       "      <td>162056</td>\n",
       "      <td>79764.0</td>\n",
       "      <td>85079445</td>\n",
       "    </tr>\n",
       "    <tr>\n",
       "      <th>5</th>\n",
       "      <td>2012</td>\n",
       "      <td>179166</td>\n",
       "      <td>84770.5</td>\n",
       "      <td>99257836</td>\n",
       "    </tr>\n",
       "    <tr>\n",
       "      <th>6</th>\n",
       "      <td>2013</td>\n",
       "      <td>165066</td>\n",
       "      <td>87333.0</td>\n",
       "      <td>95078091</td>\n",
       "    </tr>\n",
       "    <tr>\n",
       "      <th>7</th>\n",
       "      <td>2014</td>\n",
       "      <td>226454</td>\n",
       "      <td>92000.0</td>\n",
       "      <td>129531788</td>\n",
       "    </tr>\n",
       "    <tr>\n",
       "      <th>8</th>\n",
       "      <td>2015</td>\n",
       "      <td>291933</td>\n",
       "      <td>112000.0</td>\n",
       "      <td>167569699</td>\n",
       "    </tr>\n",
       "    <tr>\n",
       "      <th>9</th>\n",
       "      <td>2016</td>\n",
       "      <td>316777</td>\n",
       "      <td>117000.0</td>\n",
       "      <td>175811371</td>\n",
       "    </tr>\n",
       "    <tr>\n",
       "      <th>10</th>\n",
       "      <td>2017</td>\n",
       "      <td>326139</td>\n",
       "      <td>135002.0</td>\n",
       "      <td>200901705</td>\n",
       "    </tr>\n",
       "  </tbody>\n",
       "</table>\n",
       "</div>"
      ],
      "text/plain": [
       "    year  average    median      total\n",
       "0   2007   113810   50400.0   42223650\n",
       "1   2008   115067   56988.0   47292488\n",
       "2   2009   133706   76043.5   51878028\n",
       "3   2010   173491   92375.0   71304949\n",
       "4   2011   162056   79764.0   85079445\n",
       "5   2012   179166   84770.5   99257836\n",
       "6   2013   165066   87333.0   95078091\n",
       "7   2014   226454   92000.0  129531788\n",
       "8   2015   291933  112000.0  167569699\n",
       "9   2016   316777  117000.0  175811371\n",
       "10  2017   326139  135002.0  200901705"
      ]
     },
     "execution_count": 10,
     "metadata": {},
     "output_type": "execute_result"
    }
   ],
   "source": [
    "join"
   ]
  },
  {
   "cell_type": "code",
   "execution_count": 11,
   "metadata": {
    "collapsed": true
   },
   "outputs": [],
   "source": [
    "join.to_csv(\"salaries.csv\", index = False)"
   ]
  },
  {
   "cell_type": "code",
   "execution_count": null,
   "metadata": {
    "collapsed": true
   },
   "outputs": [],
   "source": []
  }
 ],
 "metadata": {
  "kernelspec": {
   "display_name": "Python 3",
   "language": "python",
   "name": "python3"
  },
  "language_info": {
   "codemirror_mode": {
    "name": "ipython",
    "version": 3
   },
   "file_extension": ".py",
   "mimetype": "text/x-python",
   "name": "python",
   "nbconvert_exporter": "python",
   "pygments_lexer": "ipython3",
   "version": "3.5.2"
  }
 },
 "nbformat": 4,
 "nbformat_minor": 2
}
